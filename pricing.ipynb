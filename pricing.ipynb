{
 "cells": [
  {
   "cell_type": "code",
   "execution_count": 160,
   "id": "08a2ba67",
   "metadata": {},
   "outputs": [],
   "source": [
    "import numpy as np\n",
    "import matplotlib.pyplot as plt\n",
    "import numpy.random as npr"
   ]
  },
  {
   "cell_type": "markdown",
   "id": "21611026",
   "metadata": {},
   "source": [
    "## Turnbull & Wakeman approximation\n",
    "\n",
    "Turnbull & Wakeman have provided an approximation of the price of an asian option, as a european option with different parameters."
   ]
  },
  {
   "cell_type": "code",
   "execution_count": 161,
   "id": "b678881a",
   "metadata": {},
   "outputs": [],
   "source": [
    "def cdf(x):\n",
    "    \"\"\" Approximation of the normal distribution function with an error less than 7.5*10^-8 \"\"\"\n",
    "    coefficients = [0.2316419, 0.319381530, -0.356563782, 1.781477937, -1.821255978, 1.33027442]\n",
    "    if x >= 0:\n",
    "        t = 1 / (1 + coefficients[0] * x)\n",
    "        terms = [coefficients[i] * t**i for i in range(1, 6)]\n",
    "        approx = 1 - (1 / np.sqrt(2 * np.pi)) * np.exp(-x**2 / 2) * sum(terms)\n",
    "        return approx\n",
    "    else:\n",
    "        return 1 - cdf(-x)"
   ]
  },
  {
   "cell_type": "code",
   "execution_count": 162,
   "id": "ad4995fd",
   "metadata": {},
   "outputs": [],
   "source": [
    "def tnw_coeffs_con(r, T, sig):\n",
    "    \"\"\" Calculates the r_a and sigma_a coefficients from the Turnbull & Wakeman approximation for an asian option \"\"\"\n",
    "    M1 = (np.exp(r*T)-1)/(r*T)\n",
    "    M2 = ( \n",
    "        (2*np.exp((2*r+sig**2)*T)) / ((r+sig**2) * (2*r+sig**2) * T**2)\n",
    "        + (2/(r*T**2)) * (1/(2*r+sig**2) - np.exp(r*T) / (r+sig**2))\n",
    "    )\n",
    "\n",
    "    r_a = np.log(M1) / T \n",
    "    sig_a = np.sqrt(-2*r_a + np.log(M2)/T)\n",
    "    return (r_a, sig_a)"
   ]
  },
  {
   "cell_type": "code",
   "execution_count": 163,
   "id": "e22110c5",
   "metadata": {},
   "outputs": [],
   "source": [
    "def tnw_coeffs_dis(r, T, sig, N):\n",
    "    \"\"\" Calculates the r_a and sigma_a coefficients from the Turnbull & Wakeman approximation for an asian option \"\"\"\n",
    "    dt = T/N\n",
    "    t0 = np.exp((2*r+sig**2)*dt)\n",
    "    t1 = np.exp(r*dt)\n",
    "    M1 = (1 / N)*( (t1*(1-np.exp(r*T))) / (1-t1) )\n",
    "    M2 = (\n",
    "        (1/(N**2))*( (t0 * (1-np.exp((2*r+sig**2)*T)) ) / (1-t0) )\n",
    "        + (1/(N**2))*(2*t1/(1-t1))*( \n",
    "        t0 * ( (1-np.exp((2*r+sig**2)*(N-1)*dt)) / (1-t0) )\n",
    "        - np.exp(((N+1)*r+sig**2)*dt) * ( (1-np.exp((r+sig**2)*(N-1)*dt)) / (1-np.exp((r+sig**2)*dt)) )\n",
    "    ))\n",
    "\n",
    "    r_A = np.log(M1) / T\n",
    "    sig_a = np.sqrt(np.log(M2)/T - 2 * r_A)\n",
    "\n",
    "    return (r_A, sig_a)"
   ]
  },
  {
   "cell_type": "code",
   "execution_count": 164,
   "id": "581430e1",
   "metadata": {},
   "outputs": [],
   "source": [
    "def asian_tnw_bs(r, T, S0, sig, K, N):\n",
    "    \"\"\" Calculates price of an asian option under the Turnbull & Wakeman approximation and the Black-Scholes model \"\"\"\n",
    "    r_a, sig_a = tnw_coeffs_dis(r, T, sig, N)\n",
    "    \n",
    "    d = (np.log(S0 / K) + r_a * T + 0.5 * sig_a**2 * T) / (sig_a * np.sqrt(T))\n",
    "    price = np.exp(-r * T) * (\n",
    "        S0 * np.exp(r_a * T) * cdf(sig_a * np.sqrt(T) - d)\n",
    "        - K * cdf(-d)\n",
    "    )\n",
    "    return price"
   ]
  },
  {
   "cell_type": "code",
   "execution_count": 165,
   "id": "3627b487",
   "metadata": {},
   "outputs": [],
   "source": [
    "def asian_mc_bs(r, T, S0, sig, K, N, n=1000):\n",
    "    step = (T/N)\n",
    "    LR = (r-sig**2/2) * step + sig*np.sqrt(step)*npr.normal(0, 1, size=(n, N))\n",
    "    LR = np.concatenate((np.log(S0)*np.ones((n, 1)), LR), axis=1)\n",
    "    LogPath = np.cumsum(LR, axis=1)\n",
    "    SPath = np.exp(LogPath)\n",
    "\n",
    "    payoffs_asian = np.exp(-r*T)*np.maximum(np.sum(SPath, axis=1)/N - K, 0)\n",
    "    expected = payoffs_asian.mean()\n",
    "    var = np.linalg.norm(payoffs_asian - expected) / n\n",
    "\n",
    "    return payoffs_asian.mean(), var"
   ]
  },
  {
   "cell_type": "code",
   "execution_count": 166,
   "id": "b697cf40",
   "metadata": {},
   "outputs": [],
   "source": [
    "K = 1.0\n",
    "S0 = 1.0\n",
    "sig = 0.3\n",
    "T = 6\n",
    "r = 0.01\n",
    "N = 1512\n",
    "\n",
    "tnw_approx = asian_tnw_bs(r, T, S0, sig, K, N)\n",
    "mc_approx, var = asian_mc_bs(r, T, S0, sig, K, N)"
   ]
  },
  {
   "cell_type": "code",
   "execution_count": 167,
   "id": "54673ec3",
   "metadata": {},
   "outputs": [
    {
     "data": {
      "text/plain": [
       "(0.17877088673623084, 0.19642700056934673, 0.011904141381981448)"
      ]
     },
     "execution_count": 167,
     "metadata": {},
     "output_type": "execute_result"
    }
   ],
   "source": [
    "tnw_approx, mc_approx, var"
   ]
  },
  {
   "cell_type": "code",
   "execution_count": 168,
   "id": "0bf2a52b",
   "metadata": {},
   "outputs": [
    {
     "data": {
      "text/plain": [
       "array([[0.12552939, 0.87967905, 0.47102611],\n",
       "       [0.3014681 , 0.29998178, 0.64514324],\n",
       "       [0.55184287, 0.82239473, 0.26819472],\n",
       "       [0.36980535, 0.04764278, 0.85006542],\n",
       "       [0.44849495, 0.33822962, 0.7277291 ]])"
      ]
     },
     "execution_count": 168,
     "metadata": {},
     "output_type": "execute_result"
    }
   ],
   "source": [
    "mat = npr.random(size=(5,3))\n",
    "mat"
   ]
  },
  {
   "cell_type": "code",
   "execution_count": 169,
   "id": "fcfda90b",
   "metadata": {},
   "outputs": [
    {
     "data": {
      "text/plain": [
       "array([1.47623455, 1.24659312, 1.64243232, 1.26751355, 1.51445367])"
      ]
     },
     "execution_count": 169,
     "metadata": {},
     "output_type": "execute_result"
    }
   ],
   "source": [
    "np.sum(mat, axis=1)"
   ]
  }
 ],
 "metadata": {
  "kernelspec": {
   "display_name": "Python 3",
   "language": "python",
   "name": "python3"
  },
  "language_info": {
   "codemirror_mode": {
    "name": "ipython",
    "version": 3
   },
   "file_extension": ".py",
   "mimetype": "text/x-python",
   "name": "python",
   "nbconvert_exporter": "python",
   "pygments_lexer": "ipython3",
   "version": "3.10.12"
  }
 },
 "nbformat": 4,
 "nbformat_minor": 5
}
