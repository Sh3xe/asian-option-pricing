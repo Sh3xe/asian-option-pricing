{
 "cells": [
  {
   "cell_type": "code",
   "execution_count": 193,
   "id": "08a2ba67",
   "metadata": {},
   "outputs": [],
   "source": [
    "import numpy as np\n",
    "import matplotlib.pyplot as plt\n",
    "import numpy.random as npr"
   ]
  },
  {
   "cell_type": "markdown",
   "id": "7554b5e0",
   "metadata": {},
   "source": [
    "## European Option price"
   ]
  },
  {
   "cell_type": "code",
   "execution_count": 194,
   "id": "873e5ef2",
   "metadata": {},
   "outputs": [],
   "source": [
    "def norm_cdf(x):\n",
    "    \"\"\" Approximation of the normal distribution function with an error less than 7.5*10^-8 \"\"\"\n",
    "    assert x >= 0 or x < 0\n",
    "    coefficients = [0.2316419, 0.319381530, -0.356563782, 1.781477937, -1.821255978, 1.33027442]\n",
    "    if x >= 0:\n",
    "        t = 1 / (1 + coefficients[0] * x)\n",
    "        terms = [coefficients[i] * t**i for i in range(1, 6)]\n",
    "        approx = 1 - (1 / np.sqrt(2 * np.pi)) * np.exp(-x**2 / 2) * sum(terms)\n",
    "        return approx\n",
    "    else:\n",
    "        return 1 - norm_cdf(-x)"
   ]
  },
  {
   "cell_type": "code",
   "execution_count": 195,
   "id": "dc17c598",
   "metadata": {},
   "outputs": [],
   "source": [
    "def call_eur_bs(r, sig, T, S0, K):\n",
    "    d = (np.log(S0 / K) + r * T + 0.5 * sig**2 * T) / (sig * np.sqrt(T))\n",
    "    return (\n",
    "        S0 * np.exp(r * T) * norm_cdf(sig * np.sqrt(T) - d)\n",
    "        - K * norm_cdf(-d)\n",
    "    )"
   ]
  },
  {
   "cell_type": "markdown",
   "id": "21611026",
   "metadata": {},
   "source": [
    "## Turnbull & Wakeman approximation\n",
    "\n",
    "Turnbull & Wakeman have provided an approximation of the price of an asian option, as a european option with different parameters."
   ]
  },
  {
   "cell_type": "code",
   "execution_count": 196,
   "id": "ad4995fd",
   "metadata": {},
   "outputs": [],
   "source": [
    "def tnw_coeffs_con(r, sig, T):\n",
    "    \"\"\" Calculates the r_a and sigma_a coefficients from the Turnbull & Wakeman approximation for an asian option \"\"\"\n",
    "    M1 = (np.exp(r*T)-1)/(r*T)\n",
    "    M2 = ( \n",
    "        (2*np.exp((2*r+sig**2)*T)) / ((r+sig**2) * (2*r+sig**2) * T**2)\n",
    "        + (2/(r*T**2)) * (1/(2*r+sig**2) - np.exp(r*T) / (r+sig**2))\n",
    "    )\n",
    "\n",
    "    r_a = np.log(M1) / T \n",
    "    sig_a = np.sqrt(-2*r_a + np.log(M2)/T)\n",
    "    return (r_a, sig_a)"
   ]
  },
  {
   "cell_type": "code",
   "execution_count": 197,
   "id": "e22110c5",
   "metadata": {},
   "outputs": [],
   "source": [
    "def tnw_coeffs_dis(r, sig, T, num_subdivs):\n",
    "    \"\"\" Calculates the r_a and sigma_a coefficients from the Turnbull & Wakeman approximation for an asian option \"\"\"\n",
    "    dt = T/num_subdivs\n",
    "    N = num_subdivs\n",
    "    t0 = np.exp((2*r+sig**2)*dt)\n",
    "    t1 = np.exp(r*dt)\n",
    "    M1 = (1 / N)*( (t1*(1-np.exp(r*T))) / (1-t1) )\n",
    "    M2 = (\n",
    "        (1/(N**2))*( (t0 * (1-np.exp((2*r+sig**2)*T)) ) / (1-t0) )\n",
    "        + (1/(N**2))*(2*t1/(1-t1))*( \n",
    "        t0 * ( (1-np.exp((2*r+sig**2)*(N-1)*dt)) / (1-t0) )\n",
    "        - np.exp(((N+1)*r+sig**2)*dt) * ( (1-np.exp((r+sig**2)*(N-1)*dt)) / (1-np.exp((r+sig**2)*dt)) )\n",
    "    ))\n",
    "\n",
    "    r_A = np.log(M1) / T\n",
    "    sig_a = np.sqrt(np.log(M2)/T - 2 * r_A)\n",
    "\n",
    "    return (r_A, sig_a)"
   ]
  },
  {
   "cell_type": "code",
   "execution_count": 198,
   "id": "581430e1",
   "metadata": {},
   "outputs": [],
   "source": [
    "def call_asian_bs_tnw(r, sig, T, S0, K, num_subdivs):\n",
    "    \"\"\" Calculates price of an asian option under the Turnbull & Wakeman approximation and the Black-Scholes model \"\"\"\n",
    "    r_a, sig_a = tnw_coeffs_dis(r, sig, T, num_subdivs)\n",
    "    return np.exp(-r*T) * call_eur_bs(r_a, sig_a, T, K, S0)"
   ]
  },
  {
   "cell_type": "markdown",
   "id": "9d073f7a",
   "metadata": {},
   "source": [
    "## Monte-Carlo approximation"
   ]
  },
  {
   "cell_type": "code",
   "execution_count": 199,
   "id": "8abbdd3c",
   "metadata": {},
   "outputs": [],
   "source": [
    "def price_paths_bs(r, sig, T, S0, num_paths, num_subdivs):\n",
    "    step = (T/num_subdivs)\n",
    "    log_diffs = (r-sig**2/2) * step + sig*np.sqrt(step)*npr.normal(0, 1, size=(num_paths, num_subdivs))\n",
    "    log_diffs = np.concatenate((np.log(S0)*np.ones((num_paths, 1)), log_diffs), axis=1)\n",
    "    log_paths = np.cumsum(log_diffs, axis=1)\n",
    "    price_paths = np.exp(log_paths)\n",
    "\n",
    "    return price_paths"
   ]
  },
  {
   "cell_type": "code",
   "execution_count": 200,
   "id": "3627b487",
   "metadata": {},
   "outputs": [],
   "source": [
    "def call_asian_bs_mc(r, sig, T, S0, K, num_paths, num_subdivs):\n",
    "    price_paths = price_paths_bs(r, sig, T, S0, num_paths, num_subdivs)\n",
    "\n",
    "    payoffs_asian = np.exp(-r*T)*np.maximum(np.sum(price_paths, axis=1)/num_subdivs - K, 0)\n",
    "    var = payoffs_asian.var(ddof=1) / num_paths\n",
    "\n",
    "    return payoffs_asian.mean(), var"
   ]
  },
  {
   "cell_type": "code",
   "execution_count": 201,
   "id": "4ca93ac6",
   "metadata": {},
   "outputs": [],
   "source": [
    "def ctrl_coeffs(r, sig, dt, n):\n",
    "    sig_e = sig*np.exp( ((n+1)*(2*n+1)) / (6*dt*n**2) )\n",
    "    r_e = ((n+1)*(2*n+1)*sig**2) / (12*dt*n**2) + (r-0.5*sig**2)*(n+1)/(2*n)\n",
    "\n",
    "    return (r_e, sig_e)"
   ]
  },
  {
   "cell_type": "code",
   "execution_count": 202,
   "id": "4cf03dcc",
   "metadata": {},
   "outputs": [],
   "source": [
    "def call_asian_bs_mc_ctrl(r, sig, T, S0, K, num_paths, num_subdivs):\n",
    "    \"\"\" Calculate a monte-carlo simulation of the asian price with a lower variance \"\"\"\n",
    "    price_paths = price_paths_bs(r, sig, T, S0, num_paths, num_subdivs)\n",
    "\n",
    "    payoffs_asian = np.exp(-r*T)*np.maximum(np.sum(price_paths, axis=1)/num_subdivs - K, 0)\n",
    "    control_samples = np.exp( (1/num_subdivs)*np.log(price_paths).sum(axis=1) )\n",
    "\n",
    "    dt = T/num_subdivs\n",
    "    r_e, sig_e = ctrl_coeffs(r, sig, dt, num_subdivs)\n",
    "\n",
    "    control_mean = np.exp(-r*T)*call_eur_bs(r_e, sig_e, T, S0, K)\n",
    "    res_sample = payoffs_asian + control_samples - control_mean\n",
    "\n",
    "    var = res_sample.var(ddof=1) / num_paths\n",
    "    return (res_sample.mean(), var)\n",
    "    "
   ]
  },
  {
   "cell_type": "markdown",
   "id": "83d16e59",
   "metadata": {},
   "source": [
    "## Tests"
   ]
  },
  {
   "cell_type": "code",
   "execution_count": 227,
   "id": "b697cf40",
   "metadata": {},
   "outputs": [
    {
     "name": "stdout",
     "output_type": "stream",
     "text": [
      "Approximation Monte-Carlo  : 20.740 (var=1.358)\n",
      "Variable de contrôle       : 13.627 (var=8.183)\n",
      "Approximation T&W discrète : 18.721\n"
     ]
    }
   ],
   "source": [
    "S0 = 100   # Spot\n",
    "K = 100    # Strike\n",
    "sig = 0.3  # Vol.\n",
    "T = 6      # Expiration\n",
    "r = 0.02   # Risk-free rate\n",
    "N = 1000   # Number of simulations (monte-carlo)\n",
    "n = 30     # Path subdivisions\n",
    "\n",
    "tnw_approx = call_asian_bs_tnw(r, sig, T, S0, K, num_subdivs=n)\n",
    "mc_approx, var = call_asian_bs_mc(r, sig, T, S0, K, num_paths=N, num_subdivs=n)\n",
    "mc_approx_c, var_c = call_asian_bs_mc_ctrl(r, sig, T, S0, K, num_paths=N, num_subdivs=n)\n",
    "\n",
    "print(f\"Approximation Monte-Carlo  : {mc_approx:.3f} (var={var:.3f})\")\n",
    "print(f\"Variable de contrôle       : {mc_approx_c:.3f} (var={var_c:.3f})\")\n",
    "print(f\"Approximation T&W discrète : {tnw_approx:.3f}\")"
   ]
  }
 ],
 "metadata": {
  "kernelspec": {
   "display_name": "Python 3",
   "language": "python",
   "name": "python3"
  },
  "language_info": {
   "codemirror_mode": {
    "name": "ipython",
    "version": 3
   },
   "file_extension": ".py",
   "mimetype": "text/x-python",
   "name": "python",
   "nbconvert_exporter": "python",
   "pygments_lexer": "ipython3",
   "version": "3.10.16"
  }
 },
 "nbformat": 4,
 "nbformat_minor": 5
}
