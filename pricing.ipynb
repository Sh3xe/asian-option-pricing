{
 "cells": [
  {
   "cell_type": "code",
   "execution_count": 1,
   "id": "08a2ba67",
   "metadata": {},
   "outputs": [],
   "source": [
    "import numpy as np\n",
    "import matplotlib.pyplot as plt\n",
    "import numpy.random as npr"
   ]
  },
  {
   "cell_type": "markdown",
   "id": "7554b5e0",
   "metadata": {},
   "source": [
    "## Black-Scholes related utilities"
   ]
  },
  {
   "cell_type": "code",
   "execution_count": 2,
   "id": "873e5ef2",
   "metadata": {},
   "outputs": [],
   "source": [
    "def norm_cdf(x):\n",
    "    \"\"\" Approximation of the normal distribution function with an error less than 7.5*10^-8 \"\"\"\n",
    "    assert x >= 0 or x < 0\n",
    "    coefficients = [0.2316419, 0.319381530, -0.356563782, 1.781477937, -1.821255978, 1.33027442]\n",
    "    if x >= 0:\n",
    "        t = 1 / (1 + coefficients[0] * x)\n",
    "        terms = [coefficients[i] * t**i for i in range(1, 6)]\n",
    "        approx = 1 - (1 / np.sqrt(2 * np.pi)) * np.exp(-x**2 / 2) * sum(terms)\n",
    "        return approx\n",
    "    else:\n",
    "        return 1 - norm_cdf(-x)"
   ]
  },
  {
   "cell_type": "code",
   "execution_count": 3,
   "id": "dc17c598",
   "metadata": {},
   "outputs": [],
   "source": [
    "def call_eur_bs(r, sig, T, S0, K):\n",
    "    d = (np.log(S0 / K) + r * T + 0.5 * sig**2 * T) / (sig * np.sqrt(T))\n",
    "    return (\n",
    "        S0 * np.exp(r * T) * norm_cdf(sig * np.sqrt(T) - d)\n",
    "        - K * norm_cdf(-d)\n",
    "    )"
   ]
  },
  {
   "cell_type": "code",
   "execution_count": 4,
   "id": "1cbd08c1",
   "metadata": {},
   "outputs": [],
   "source": [
    "def price_paths_bs(r, sig, T, S0, num_paths, num_subdivs):\n",
    "    step = (T/num_subdivs)\n",
    "    log_diffs = (r-0.5*sig**2) * step + sig*np.sqrt(step)*npr.normal(0, 1, size=(num_paths, num_subdivs))\n",
    "    log_diffs = np.concatenate((np.log(S0)*np.ones((num_paths, 1)), log_diffs), axis=1)\n",
    "    log_paths = np.cumsum(log_diffs, axis=1)\n",
    "    price_paths = np.exp(log_paths)\n",
    "\n",
    "    return price_paths"
   ]
  },
  {
   "cell_type": "markdown",
   "id": "21611026",
   "metadata": {},
   "source": [
    "## Turnbull & Wakeman approximation\n",
    "\n",
    "Turnbull & Wakeman have provided an approximation of the price of an asian option, as a european option with different parameters."
   ]
  },
  {
   "cell_type": "code",
   "execution_count": 5,
   "id": "ad4995fd",
   "metadata": {},
   "outputs": [],
   "source": [
    "def tnw_coeffs_con(r, sig, T):\n",
    "    \"\"\" Calculates the r_a and sigma_a coefficients from the Turnbull & Wakeman approximation for an asian option \"\"\"\n",
    "    M1 = (np.exp(r*T)-1)/(r*T)\n",
    "    M2 = ( \n",
    "        (2*np.exp((2*r+sig**2)*T)) / ((r+sig**2) * (2*r+sig**2) * T**2)\n",
    "        + (2/(r*T**2)) * (1/(2*r+sig**2) - np.exp(r*T) / (r+sig**2))\n",
    "    )\n",
    "\n",
    "    r_a = np.log(M1) / T \n",
    "    sig_a = np.sqrt(-2*r_a + np.log(M2)/T)\n",
    "    return (r_a, sig_a)"
   ]
  },
  {
   "cell_type": "code",
   "execution_count": 6,
   "id": "e22110c5",
   "metadata": {},
   "outputs": [],
   "source": [
    "def tnw_coeffs_dis(r, sig, T, num_subdivs):\n",
    "    \"\"\" Calculates the r_a and sigma_a coefficients from the Turnbull & Wakeman approximation for an asian option \"\"\"\n",
    "    dt = T/num_subdivs\n",
    "    N = num_subdivs\n",
    "    t0 = np.exp((2*r+sig**2)*dt)\n",
    "    t1 = np.exp(r*dt)\n",
    "    M1 = (1 / N)*( (t1*(1-np.exp(r*T))) / (1-t1) )\n",
    "    M2 = (\n",
    "        (1/(N**2))*( (t0 * (1-np.exp((2*r+sig**2)*T)) ) / (1-t0) )\n",
    "        + (1/(N**2))*(2*t1/(1-t1))*( \n",
    "        t0 * ( (1-np.exp((2*r+sig**2)*(N-1)*dt)) / (1-t0) )\n",
    "        - np.exp(((N+1)*r+sig**2)*dt) * ( (1-np.exp((r+sig**2)*(N-1)*dt)) / (1-np.exp((r+sig**2)*dt)) )\n",
    "    ))\n",
    "\n",
    "    r_A = np.log(M1) / T\n",
    "    sig_a = np.sqrt(np.log(M2)/T - 2 * r_A)\n",
    "\n",
    "    return (r_A, sig_a)"
   ]
  },
  {
   "cell_type": "code",
   "execution_count": 7,
   "id": "581430e1",
   "metadata": {},
   "outputs": [],
   "source": [
    "def call_asian_bs_tnw(r, sig, T, S0, K, num_subdivs):\n",
    "    \"\"\" Calculates price of an asian option under the Turnbull & Wakeman approximation and the Black-Scholes model \"\"\"\n",
    "    r_a, sig_a = tnw_coeffs_dis(r, sig, T, num_subdivs)\n",
    "    return np.exp(-r*T) * call_eur_bs(r_a, sig_a, T, K, S0)"
   ]
  },
  {
   "cell_type": "markdown",
   "id": "9d073f7a",
   "metadata": {},
   "source": [
    "## Monte-Carlo approximation"
   ]
  },
  {
   "cell_type": "code",
   "execution_count": 8,
   "id": "3627b487",
   "metadata": {},
   "outputs": [],
   "source": [
    "def call_asian_bs_mc(r, sig, T, S0, K, num_paths, num_subdivs):\n",
    "    price_paths = price_paths_bs(r, sig, T, S0, num_paths, num_subdivs)\n",
    "\n",
    "    payoffs_asian = np.exp(-r*T)*np.maximum(price_paths.mean(axis=1) - K, 0)\n",
    "    var = payoffs_asian.var(ddof=1) / num_paths\n",
    "\n",
    "    return payoffs_asian.mean(), var"
   ]
  },
  {
   "cell_type": "code",
   "execution_count": 9,
   "id": "4ca93ac6",
   "metadata": {},
   "outputs": [],
   "source": [
    "def ctrl_coeffs(r, sig, n):\n",
    "    sig_e = (sig/n)*np.sqrt( ((n+1)*(2*n+1)) / 6 )\n",
    "    r_e = 0.5*sig_e**2 + (r-0.5*sig**2)*(n+1)/(2*n)\n",
    "\n",
    "    return (r_e, sig_e)"
   ]
  },
  {
   "cell_type": "code",
   "execution_count": 10,
   "id": "4cf03dcc",
   "metadata": {},
   "outputs": [],
   "source": [
    "def call_asian_bs_mc_ctrl(r, sig, T, S0, K, num_paths, num_subdivs):\n",
    "    \"\"\" Calculate a monte-carlo simulation of the asian price with a lower variance \"\"\"\n",
    "\n",
    "    price_paths = price_paths_bs(r, sig, T, S0, num_paths, num_subdivs)\n",
    "    payoffs_asian = np.maximum(price_paths.mean(axis=1) - K, 0)\n",
    "    control_samples = np.maximum(np.exp( np.log(price_paths)[:,1:].mean(axis=1) ) - K, 0)\n",
    "\n",
    "    r_e, sig_e = ctrl_coeffs(r, sig, num_subdivs)\n",
    "    control_mean = call_eur_bs(r_e, sig_e, T, S0, K)\n",
    "    res_sample = np.exp(-r*T)*(payoffs_asian - control_samples + control_mean)\n",
    "\n",
    "    var = res_sample.var(ddof=1) / num_paths\n",
    "    return (res_sample.mean(), var)\n",
    "    "
   ]
  },
  {
   "cell_type": "markdown",
   "id": "83d16e59",
   "metadata": {},
   "source": [
    "## Tests"
   ]
  },
  {
   "cell_type": "code",
   "execution_count": 17,
   "id": "5c7b5006",
   "metadata": {},
   "outputs": [],
   "source": [
    "# Spot\n",
    "S0 = 100\n",
    "# Strike\n",
    "K = 100\n",
    "# Vol.\n",
    "sig = 0.3\n",
    "# Expiration\n",
    "T = 6\n",
    "# Risk-free rate\n",
    "r = 0.02\n",
    "# Number of simulations (monte-carlo)\n",
    "N = 7000\n",
    "# Path subdivisions\n",
    "n = 20"
   ]
  },
  {
   "cell_type": "code",
   "execution_count": 12,
   "id": "b697cf40",
   "metadata": {},
   "outputs": [
    {
     "name": "stdout",
     "output_type": "stream",
     "text": [
      "Approximation Monte-Carlo  : 18.609€ (var=0.240275)\n",
      "Variable de contrôle       : 18.208€ (var=0.004911)\n",
      "Approximation T&W discrète : 18.948€\n"
     ]
    }
   ],
   "source": [
    "tnw_approx = call_asian_bs_tnw(r, sig, T, S0, K, num_subdivs=n)\n",
    "mc_approx, var = call_asian_bs_mc(r, sig, T, S0, K, num_paths=N, num_subdivs=n)\n",
    "mc_approx_c, var_c = call_asian_bs_mc_ctrl(r, sig, T, S0, K, num_paths=N, num_subdivs=n)\n",
    "\n",
    "print(f\"Approximation Monte-Carlo  : {mc_approx:.3f}€ (var={var:.6f})\")\n",
    "print(f\"Variable de contrôle       : {mc_approx_c:.3f}€ (var={var_c:.6f})\")\n",
    "print(f\"Approximation T&W discrète : {tnw_approx:.3f}€\")"
   ]
  },
  {
   "cell_type": "markdown",
   "id": "c5881e57",
   "metadata": {},
   "source": [
    "## Graphes"
   ]
  },
  {
   "cell_type": "code",
   "execution_count": 13,
   "id": "84224aa8",
   "metadata": {},
   "outputs": [],
   "source": [
    "def var_evolution(arr):\n",
    "\toutput_arr = np.zeros(len(arr)-2)\n",
    "\tfor i in range(len(output_arr)):\n",
    "\t\toutput_arr[i] = arr[:i+2].var(ddof=1) / (i+1)\n",
    "\treturn output_arr"
   ]
  },
  {
   "cell_type": "code",
   "execution_count": null,
   "id": "17f6e25b",
   "metadata": {},
   "outputs": [
    {
     "data": {
      "image/png": "[encoded data removed]",
      "text/plain": [
       "<Figure size 640x480 with 1 Axes>"
      ]
     },
     "metadata": {},
     "output_type": "display_data"
    }
   ],
   "source": [
    "num_paths = N     # Size of Monte-Carlo simulation\n",
    "num_subdivs = n   # Number of steps for brownian motion\n",
    "num_samples = 100 # Number of sample for the graphs\n",
    "\n",
    "start_index = 100 # Starting plot index\n",
    "GREEN = \"#5be560\" \n",
    "RED = \"#cc4422\"\n",
    "FILL_RED = \"#e09582\"\n",
    "FILL_GREEN = \"#b0e8b2\"\n",
    "\n",
    "# Calculation of the paths\n",
    "price_paths = price_paths_bs(r, sig, T, S0, num_paths, num_subdivs)\n",
    "\n",
    "# Control variable monte-carlo\n",
    "r_e, sig_e = ctrl_coeffs(r, sig, num_subdivs)\n",
    "control_mean = call_eur_bs(r_e, sig_e, T, S0, K)\n",
    "asian_mc_samples = np.maximum(price_paths.mean(axis=1) - K, 0)\n",
    "control_samples = np.maximum(np.exp( np.log(price_paths)[:,1:].mean(axis=1) ) - K, 0)\n",
    "asian_ctrl_mc_samples = np.exp(-r*T)*(asian_mc_samples - control_samples + control_mean)\n",
    "asian_mc_samples *= np.exp(-r*T)\n",
    "\n",
    "# TWN approx\n",
    "tnw_approx = call_asian_bs_tnw(r, sig, T, S0, K, num_subdivs=n)\n",
    "\n",
    "# Evolution of the Monte-Carlo simulation\n",
    "mean_vec = np.array([(1/i) for i in range(1, len(asian_mc_samples)+1)])\n",
    "asian_mc_evol = asian_mc_samples.cumsum() * mean_vec\n",
    "asian_mc_ctrl_evol = asian_ctrl_mc_samples.cumsum() * mean_vec\n",
    "\n",
    "# Calculation of the variance\n",
    "asian_mc_std = np.sqrt(var_evolution(asian_mc_samples))\n",
    "asian_mc_lower_bound = asian_mc_evol[2:] -1.61*asian_mc_std\n",
    "asian_mc_upper_bound = asian_mc_evol[2:] +1.61*asian_mc_std\n",
    "\n",
    "asian_mc_ctrl_std = np.sqrt(var_evolution(asian_mc_ctrl_evol))\n",
    "asian_mc_ctrl_lower_bound = asian_mc_ctrl_evol[2:] -1.61*asian_mc_ctrl_std\n",
    "asian_mc_ctrl_upper_bound = asian_mc_ctrl_evol[2:] +1.61*asian_mc_ctrl_std\n",
    "\n",
    "# Ploting\n",
    "x = np.arange(start=start_index, stop=len(asian_mc_ctrl_evol), step=1)\n",
    "\n",
    "plt.plot(x, asian_mc_evol[start_index:], c=RED, label=\"Éstimateur Monte-Carlo\")\n",
    "plt.fill_between(x, asian_mc_lower_bound[start_index-2:], asian_mc_upper_bound[start_index-2:], color=FILL_RED)\n",
    "\n",
    "plt.plot(x, asian_mc_ctrl_evol[start_index:], c=GREEN, label=\"Éstimateur par variable de contrôle\")\n",
    "plt.fill_between(x, asian_mc_ctrl_lower_bound[start_index-2:], asian_mc_ctrl_upper_bound[start_index-2:], color=FILL_GREEN)\n",
    "\n",
    "plt.hlines(tnw_approx, xmin=30, xmax=N)\n",
    "plt.xlabel(\"Number of simulations\")\n",
    "plt.ylabel(\"Estimation (€)\")\n",
    "plt.legend()\n",
    "plt.savefig(\"out.png\", dpi=300)\n",
    "plt.show()"
   ]
  }
 ],
 "metadata": {
  "kernelspec": {
   "display_name": "Python 3",
   "language": "python",
   "name": "python3"
  },
  "language_info": {
   "codemirror_mode": {
    "name": "ipython",
    "version": 3
   },
   "file_extension": ".py",
   "mimetype": "text/x-python",
   "name": "python",
   "nbconvert_exporter": "python",
   "pygments_lexer": "ipython3",
   "version": "3.10.16"
  }
 },
 "nbformat": 4,
 "nbformat_minor": 5
}
