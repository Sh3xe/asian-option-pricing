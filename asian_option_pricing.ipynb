{
 "cells": [
  {
   "cell_type": "code",
   "execution_count": 4,
   "id": "08a2ba67",
   "metadata": {},
   "outputs": [],
   "source": [
    "import numpy as np\n",
    "import matplotlib.pyplot as plt"
   ]
  },
  {
   "cell_type": "markdown",
   "id": "21611026",
   "metadata": {},
   "source": [
    "## Turnbull & Wakeman approximation\n",
    "\n",
    "Turnbull & Wakeman have provided an approximation of the price of an asian option, as a european option with different parameters."
   ]
  },
  {
   "cell_type": "code",
   "execution_count": 5,
   "id": "b678881a",
   "metadata": {},
   "outputs": [],
   "source": [
    "def cdf(x):\n",
    "    \"\"\" Approximation of the normal distribution function with an error less than 7.5*10^-8 \"\"\"\n",
    "    coefficients = [0.2316419, 0.319381530, -0.356563782, 1.781477937, -1.821255978, 1.33027442]\n",
    "    if x > 0:\n",
    "        t = 1 / (1 + coefficients[0] * x)\n",
    "        terms = [coefficients[i] * t**i for i in range(1, 6)]\n",
    "        approx = 1 - (1 / np.sqrt(2 * np.pi)) * np.exp(-x**2 / 2) * sum(terms)\n",
    "        return approx\n",
    "    else:\n",
    "        return 1 - cdf(-x)"
   ]
  },
  {
   "cell_type": "code",
   "execution_count": 6,
   "id": "ad4995fd",
   "metadata": {},
   "outputs": [],
   "source": [
    "def tnw_coeffs(r, T, sig):\n",
    "    \"\"\" Calculates the r_a and sigma_a coefficients from the Turnbull & Wakeman approximation for an asian option \"\"\"\n",
    "    M1 = (np.exp(r*T)-1)/(r*T)\n",
    "    M2 = ( \n",
    "        (2*np.exp((2*r+sig**2)*T)) / ((r+sig**2) * (2*r+sig**2) * T**2)\n",
    "        + (2/(r*T**2)) * (1/(2*r+sig**2) - np.exp(r*T) / (r+sig**2))\n",
    "    )\n",
    "\n",
    "    r_a = np.log(M1) / T \n",
    "    sig_a = np.sqrt(-2*r_a + np.log(M2)/T)\n",
    "    return (r_a, sig_a)\n",
    "\n",
    "def asian_tnw_bs(r, T, S0, sig, K):\n",
    "    \"\"\" Calculates price of an asian option under the Turnbull & Wakeman approximation and the Black-Scholes model \"\"\"\n",
    "    r_a, sig_a = tnw_coeffs(r, T, sig)\n",
    "    d = (np.log(S0 / K) + r_a * T + 0.5 * sig_a**2 * T) / (sig_a * np.sqrt(T))\n",
    "    price = np.exp(-r * T) * (\n",
    "        S0 * np.exp(r_a * T) * cdf(sig_a * np.sqrt(T) - d)\n",
    "        - K * cdf(-d)\n",
    "    )\n",
    "    return price"
   ]
  },
  {
   "cell_type": "code",
   "execution_count": 7,
   "id": "b697cf40",
   "metadata": {},
   "outputs": [
    {
     "data": {
      "text/plain": [
       "5.370543363115504"
      ]
     },
     "execution_count": 7,
     "metadata": {},
     "output_type": "execute_result"
    }
   ],
   "source": [
    "K = 100\n",
    "S0 = 100\n",
    "sig = 0.2\n",
    "T = 1\n",
    "r = 0.05\n",
    "\n",
    "asian_tnw_bs(r, T, S0, sig, K)"
   ]
  }
 ],
 "metadata": {
  "kernelspec": {
   "display_name": "Python 3",
   "language": "python",
   "name": "python3"
  },
  "language_info": {
   "codemirror_mode": {
    "name": "ipython",
    "version": 3
   },
   "file_extension": ".py",
   "mimetype": "text/x-python",
   "name": "python",
   "nbconvert_exporter": "python",
   "pygments_lexer": "ipython3",
   "version": "3.10.12"
  }
 },
 "nbformat": 4,
 "nbformat_minor": 5
}
